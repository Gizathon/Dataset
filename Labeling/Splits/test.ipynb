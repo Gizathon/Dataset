{
 "cells": [
  {
   "cell_type": "code",
   "execution_count": 1,
   "metadata": {},
   "outputs": [],
   "source": [
    "import pandas as pd"
   ]
  },
  {
   "cell_type": "code",
   "execution_count": 4,
   "metadata": {},
   "outputs": [
    {
     "name": "stdout",
     "output_type": "stream",
     "text": [
      "<class 'pandas.core.frame.DataFrame'>\n",
      "RangeIndex: 31670 entries, 0 to 31669\n",
      "Data columns (total 31 columns):\n",
      " #   Column                  Non-Null Count  Dtype  \n",
      "---  ------                  --------------  -----  \n",
      " 0   createdAtBlockNumber    31670 non-null  int64  \n",
      " 1   createdAtTimestamp      31670 non-null  object \n",
      " 2   id                      31670 non-null  object \n",
      " 3   reserve0                31670 non-null  float64\n",
      " 4   reserve1                31670 non-null  float64\n",
      " 5   reserveETH              31670 non-null  float64\n",
      " 6   reserveUSD              31670 non-null  float64\n",
      " 7   totalSupply             31670 non-null  float64\n",
      " 8   txCount                 31670 non-null  int64  \n",
      " 9   reserve00               31670 non-null  float64\n",
      " 10  reserve11               31670 non-null  float64\n",
      " 11  token0.id               31670 non-null  object \n",
      " 12  token0.name             31667 non-null  object \n",
      " 13  token0.symbol           31669 non-null  object \n",
      " 14  token0.totalLiquidity   31670 non-null  float64\n",
      " 15  token0.txCount          31670 non-null  int64  \n",
      " 16  token1.id               31670 non-null  object \n",
      " 17  token1.name             31670 non-null  object \n",
      " 18  token1.symbol           31669 non-null  object \n",
      " 19  token1.totalLiquidity   31670 non-null  float64\n",
      " 20  token1.txCount          31670 non-null  int64  \n",
      " 21  token00.id              31670 non-null  object \n",
      " 22  token00.name            31667 non-null  object \n",
      " 23  token00.symbol          31668 non-null  object \n",
      " 24  token00.totalLiquidity  31670 non-null  float64\n",
      " 25  token00.txCount         31670 non-null  int64  \n",
      " 26  token11.id              31670 non-null  object \n",
      " 27  token11.name            31670 non-null  object \n",
      " 28  token11.symbol          31670 non-null  object \n",
      " 29  token11.totalLiquidity  31670 non-null  float64\n",
      " 30  token11.txCount         31670 non-null  int64  \n",
      "dtypes: float64(11), int64(6), object(14)\n",
      "memory usage: 7.5+ MB\n"
     ]
    }
   ],
   "source": [
    "temp = pd.read_csv(\"split_9.csv\")\n",
    "temp.info()"
   ]
  },
  {
   "cell_type": "code",
   "execution_count": null,
   "metadata": {},
   "outputs": [],
   "source": []
  }
 ],
 "metadata": {
  "kernelspec": {
   "display_name": "Python 3",
   "language": "python",
   "name": "python3"
  },
  "language_info": {
   "codemirror_mode": {
    "name": "ipython",
    "version": 3
   },
   "file_extension": ".py",
   "mimetype": "text/x-python",
   "name": "python",
   "nbconvert_exporter": "python",
   "pygments_lexer": "ipython3",
   "version": "3.11.4"
  }
 },
 "nbformat": 4,
 "nbformat_minor": 2
}
