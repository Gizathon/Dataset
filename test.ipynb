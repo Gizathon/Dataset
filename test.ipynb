{
 "cells": [
  {
   "cell_type": "code",
   "execution_count": 2,
   "metadata": {},
   "outputs": [],
   "source": [
    "import pandas as pd"
   ]
  },
  {
   "cell_type": "code",
   "execution_count": 3,
   "metadata": {},
   "outputs": [
    {
     "name": "stdout",
     "output_type": "stream",
     "text": [
      "<class 'pandas.core.frame.DataFrame'>\n",
      "RangeIndex: 2850 entries, 0 to 2849\n",
      "Data columns (total 58 columns):\n",
      " #   Column                      Non-Null Count  Dtype  \n",
      "---  ------                      --------------  -----  \n",
      " 0   createdAtBlockNumber        2850 non-null   int64  \n",
      " 1   createdAtTimestamp          2850 non-null   object \n",
      " 2   id                          2850 non-null   object \n",
      " 3   reserve0                    2850 non-null   float64\n",
      " 4   reserve1                    2850 non-null   float64\n",
      " 5   reserveETH                  2850 non-null   float64\n",
      " 6   reserveUSD                  2850 non-null   float64\n",
      " 7   totalSupply                 2850 non-null   float64\n",
      " 8   txCount                     2850 non-null   int64  \n",
      " 9   reserve00                   2850 non-null   float64\n",
      " 10  reserve11                   2850 non-null   float64\n",
      " 11  token0.id                   2850 non-null   object \n",
      " 12  token0.name                 2850 non-null   object \n",
      " 13  token0.symbol               2850 non-null   object \n",
      " 14  token0.totalLiquidity       2850 non-null   float64\n",
      " 15  token0.txCount              2850 non-null   int64  \n",
      " 16  token1.id                   2850 non-null   object \n",
      " 17  token1.name                 2850 non-null   object \n",
      " 18  token1.symbol               2850 non-null   object \n",
      " 19  token1.totalLiquidity       2850 non-null   float64\n",
      " 20  token1.txCount              2850 non-null   int64  \n",
      " 21  token00.id                  2850 non-null   object \n",
      " 22  token00.name                2850 non-null   object \n",
      " 23  token00.symbol              2850 non-null   object \n",
      " 24  token00.totalLiquidity      2850 non-null   float64\n",
      " 25  token00.txCount             2850 non-null   int64  \n",
      " 26  token11.id                  2850 non-null   object \n",
      " 27  token11.name                2850 non-null   object \n",
      " 28  token11.symbol              2850 non-null   object \n",
      " 29  token11.totalLiquidity      2850 non-null   float64\n",
      " 30  token11.txCount             2850 non-null   int64  \n",
      " 31  initial_Liquidity_Eth       2850 non-null   float64\n",
      " 32  initial_Liquidity_Token     2850 non-null   float64\n",
      " 33  last_transaction_timestamp  2850 non-null   int64  \n",
      " 34  last_transaction_date       2850 non-null   object \n",
      " 35  mint_count                  2850 non-null   int64  \n",
      " 36  swap_count                  2850 non-null   int64  \n",
      " 37  burn_count                  2850 non-null   int64  \n",
      " 38  mint_mean_period            2850 non-null   int64  \n",
      " 39  swap_mean_period            2850 non-null   int64  \n",
      " 40  burn_mean_period            2850 non-null   int64  \n",
      " 41  swapIn                      2850 non-null   int64  \n",
      " 42  swapOut                     2850 non-null   int64  \n",
      " 43  token_burn_ratio            2850 non-null   float64\n",
      " 44  lp_avg                      2850 non-null   float64\n",
      " 45  lp_std                      2850 non-null   float64\n",
      " 46  creator_holding_ratio       2850 non-null   float64\n",
      " 47  lp_lock_ratio               2850 non-null   float64\n",
      " 48  is_MEV                      2850 non-null   bool   \n",
      " 49  active_period               2850 non-null   int64  \n",
      " 50  rugpull_method              2254 non-null   object \n",
      " 51  rugpull_timestamp           2850 non-null   int64  \n",
      " 52  rugpull_timestamp_date      2850 non-null   object \n",
      " 53  before_rugpull_Eth          2850 non-null   float64\n",
      " 54  after_rugpull_Eth           2850 non-null   float64\n",
      " 55  rugpull_change              2254 non-null   float64\n",
      " 56  rugpull_proceeding_hour     2850 non-null   object \n",
      " 57  is_rugpull                  2850 non-null   bool   \n",
      "dtypes: bool(2), float64(21), int64(17), object(18)\n",
      "memory usage: 1.2+ MB\n"
     ]
    }
   ],
   "source": [
    "df = pd.read_csv('result0.csv')\n",
    "df.info()"
   ]
  },
  {
   "cell_type": "code",
   "execution_count": 3,
   "metadata": {},
   "outputs": [],
   "source": [
    "import pandas as pd\n",
    "\n",
    "def split_dataframe_to_csv(df, num_files=10, filename_prefix=\"SMALLsplit_\"):\n",
    "  \"\"\"\n",
    "  Splits a pandas DataFrame into multiple CSV files with approximately the same size.\n",
    "\n",
    "  Args:\n",
    "      df (pandas.DataFrame): The DataFrame to split.\n",
    "      num_files (int, optional): The number of CSV files to create. Defaults to 10.\n",
    "      filename_prefix (str, optional): The prefix for the CSV filenames. Defaults to \"split_\".\n",
    "  \"\"\"\n",
    "\n",
    "  total_rows = len(df)\n",
    "  chunksize = int(total_rows / num_files)  # Approximate chunk size\n",
    "\n",
    "  for i in range(num_files):\n",
    "    start_index = i * chunksize\n",
    "    end_index = min((i + 1) * chunksize, total_rows)  # Handle last chunk\n",
    "\n",
    "    chunk = df.iloc[start_index:end_index]\n",
    "    filename = f\"{filename_prefix}{i}.csv\"\n",
    "    chunk.to_csv(filename, index=False)  # Save chunk as CSV\n",
    "\n",
    "# Example usage\n",
    "# df = pd.DataFrame({'col1': [1, 2, 3, 4], 'col2': ['a', 'b', 'c', 'd']})\n",
    "split_dataframe_to_csv(df, num_files=10)\n"
   ]
  },
  {
   "cell_type": "code",
   "execution_count": null,
   "metadata": {},
   "outputs": [],
   "source": []
  }
 ],
 "metadata": {
  "kernelspec": {
   "display_name": "Python 3",
   "language": "python",
   "name": "python3"
  },
  "language_info": {
   "codemirror_mode": {
    "name": "ipython",
    "version": 3
   },
   "file_extension": ".py",
   "mimetype": "text/x-python",
   "name": "python",
   "nbconvert_exporter": "python",
   "pygments_lexer": "ipython3",
   "version": "3.11.4"
  }
 },
 "nbformat": 4,
 "nbformat_minor": 2
}
